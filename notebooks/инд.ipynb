{
 "cells": [
  {
   "cell_type": "markdown",
   "id": "2d6624af",
   "metadata": {},
   "source": [
    "## Вычислить значения функций Y и F"
   ]
  },
  {
   "cell_type": "markdown",
   "id": "b33d4b64",
   "metadata": {},
   "source": [
    "$$Y=x^{3}*(x*\\arctan(a/x)-\\sqrt{|x+b|})+\\ln(|x-a|+1)^{2})$$\n",
    "$$F=\\sqrt{a*x^{2}+b+x}*e^{-a*x}+\\ln(|x|+1)$$"
   ]
  },
  {
   "cell_type": "code",
   "execution_count": 2,
   "id": "a7a12453",
   "metadata": {},
   "outputs": [],
   "source": [
    "from math import *"
   ]
  },
  {
   "cell_type": "code",
   "execution_count": 3,
   "id": "bc6c38a3",
   "metadata": {},
   "outputs": [
    {
     "name": "stdout",
     "output_type": "stream",
     "text": [
      "a=2.5\n",
      "b=1\n",
      "x=5\n"
     ]
    }
   ],
   "source": [
    "a=float(input(\"a=\"))\n",
    "b=float(input(\"b=\"))\n",
    "x=float(input(\"x=\"))"
   ]
  },
  {
   "cell_type": "code",
   "execution_count": 4,
   "id": "2034d7d2",
   "metadata": {},
   "outputs": [
    {
     "name": "stdout",
     "output_type": "stream",
     "text": [
      "Y,F: 296.78427990144854,1.7917903127712165\n"
     ]
    }
   ],
   "source": [
    "Y=x**3*(x*atan(a/x)-sqrt(abs(x+b))+log((abs(x-a)+1)**2))\n",
    "\n",
    "F=sqrt(a*x**2+b+x)*e**(-a*x)+log(abs(x)+1)\n",
    "        \n",
    "print(f\"Y,F: {Y},{F}\")"
   ]
  }
 ],
 "metadata": {
  "kernelspec": {
   "display_name": "Python 3 (ipykernel)",
   "language": "python",
   "name": "python3"
  },
  "language_info": {
   "codemirror_mode": {
    "name": "ipython",
    "version": 3
   },
   "file_extension": ".py",
   "mimetype": "text/x-python",
   "name": "python",
   "nbconvert_exporter": "python",
   "pygments_lexer": "ipython3",
   "version": "3.9.13"
  }
 },
 "nbformat": 4,
 "nbformat_minor": 5
}
