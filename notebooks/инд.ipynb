{
 "cells": [
  {
   "cell_type": "markdown",
   "id": "2ce83b63",
   "metadata": {},
   "source": [
    "## Сиситема линейных уравнений"
   ]
  },
  {
   "cell_type": "code",
   "execution_count": 1,
   "id": "8166265d",
   "metadata": {},
   "outputs": [],
   "source": [
    "import sympy as sp \n",
    "from sympy.solvers.solveset import linsolve\n",
    "%matplotlib inline\n",
    "sp.init_printing()"
   ]
  },
  {
   "cell_type": "code",
   "execution_count": 2,
   "id": "69566d08",
   "metadata": {},
   "outputs": [
    {
     "data": {
      "image/png": "[encoded data removed]",
      "text/latex": [
       "$\\displaystyle x + 2 y = 11$"
      ],
      "text/plain": [
       "x + 2⋅y = 11"
      ]
     },
     "metadata": {},
     "output_type": "display_data"
    },
    {
     "data": {
      "image/png": "[encoded data removed]",
      "text/latex": [
       "$\\displaystyle 5 x - 3 y = 3$"
      ],
      "text/plain": [
       "5⋅x - 3⋅y = 3"
      ]
     },
     "metadata": {},
     "output_type": "display_data"
    }
   ],
   "source": [
    "x,y=sp.symbols(\"x y\")\n",
    "\n",
    "eq1=sp.Eq(x+2*y,11)\n",
    "eq2=sp.Eq(5*x-3*y,3)\n",
    "\n",
    "display(eq1)\n",
    "display(eq2)"
   ]
  },
  {
   "cell_type": "code",
   "execution_count": 3,
   "id": "6682c1ed",
   "metadata": {},
   "outputs": [
    {
     "name": "stdout",
     "output_type": "stream",
     "text": [
      "X: 3\n",
      "Y: 4\n"
     ]
    }
   ],
   "source": [
    "eqs=[eq1,eq2]\n",
    "res=linsolve(eqs,(x,y))\n",
    "print(f\"X: {res.args[0][0]}\")\n",
    "print(f\"Y: {res.args[0][1]}\")"
   ]
  }
 ],
 "metadata": {
  "kernelspec": {
   "display_name": "Python 3 (ipykernel)",
   "language": "python",
   "name": "python3"
  },
  "language_info": {
   "codemirror_mode": {
    "name": "ipython",
    "version": 3
   },
   "file_extension": ".py",
   "mimetype": "text/x-python",
   "name": "python",
   "nbconvert_exporter": "python",
   "pygments_lexer": "ipython3",
   "version": "3.9.13"
  }
 },
 "nbformat": 4,
 "nbformat_minor": 5
}
