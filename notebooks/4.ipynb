{
 "cells": [
  {
   "cell_type": "markdown",
   "id": "d158b8e3",
   "metadata": {},
   "source": [
    "Время исследований\n",
    "\n",
    "На сайте https://www.kaggle.com/ выберите любой набор данных в формате CSV и проведите для него маленькое исследование: загрузите данные из набора с использованием стандартного модуля csv, посмотрите средние значения и стандартные отклонения двух выбранных числовых атрибутов, найдите методом наименьших квадратов уравнение линейной зависимости, связывающей один числовой атрибут с другим. Для оценки заданной зависимости найдите коэффициент парной корреляции, сделайте соответствующие выводы.\n",
    "\n",
    "### О данных:\n",
    "\n",
    "Список содержит лучшие американские колледжи 2022 года и подробную информацию о них, включая финансовую помощь, количество студентов, номер телефона колледжа, веб-сайт и т. д."
   ]
  },
  {
   "cell_type": "code",
   "execution_count": 1,
   "id": "f90a8e2c",
   "metadata": {},
   "outputs": [],
   "source": [
    "import csv\n",
    "from math import sqrt"
   ]
  },
  {
   "cell_type": "code",
   "execution_count": 2,
   "id": "f4cc9c36",
   "metadata": {},
   "outputs": [],
   "source": [
    "with open('top_colleges_2022.csv', 'r',newline='') as f:\n",
    "    data=csv.reader(f, delimiter=',')\n",
    "    faculty_ratio=[]\n",
    "    students=[]\n",
    "    for row in data:\n",
    "        if row[3] == \"NY\":\n",
    "            faculty_ratio.append(float(row[19]))\n",
    "            students.append(float(row[4]))"
   ]
  },
  {
   "cell_type": "code",
   "execution_count": 3,
   "id": "defb103b",
   "metadata": {},
   "outputs": [
    {
     "name": "stdout",
     "output_type": "stream",
     "text": [
      "Среднее значение соотношения преподователей к студентам: 13.000\n",
      "Среднее значение количества студентов: 11921.254\n"
     ]
    }
   ],
   "source": [
    "sr_faculty_ratio = sum(faculty_ratio) / len(faculty_ratio) \n",
    "sr_students = sum(students) / len(students) \n",
    "print(f\"Среднее значение соотношения преподователей к студентам: {sr_faculty_ratio:.3f}\")\n",
    "print(f\"Среднее значение количества студентов: {sr_students:.3f}\")"
   ]
  },
  {
   "cell_type": "code",
   "execution_count": 4,
   "id": "5d309935",
   "metadata": {},
   "outputs": [
    {
     "name": "stdout",
     "output_type": "stream",
     "text": [
      "Стандартное отклонение преподователей к студентам: 3.81\n",
      "Стандартное отклонение количества студентов: 11241.75\n"
     ]
    }
   ],
   "source": [
    "std1 = sqrt(sum((elem-sr_faculty_ratio)**2 for elem in faculty_ratio) / len(faculty_ratio))\n",
    "std2 = sqrt(sum((elem-sr_students)**2 for elem in students) / len(students))\n",
    "print(\"Стандартное отклонение преподователей к студентам: \"\n",
    "     f\"{std1:.2f}\")\n",
    "print(\"Стандартное отклонение количества студентов: \"\n",
    "     f\"{std2:.2f}\")"
   ]
  },
  {
   "cell_type": "code",
   "execution_count": 5,
   "id": "15965bff",
   "metadata": {},
   "outputs": [
    {
     "name": "stdout",
     "output_type": "stream",
     "text": [
      "Уравнение линейной зависимости: y = 725.8100436681223x + 2485.7234005683786\n",
      "Значения функции на кривой методом наименьших квадратов: \n",
      "6840.583662577112\n",
      "9018.013793581478\n",
      "9018.013793581478\n",
      "9018.013793581478\n",
      "8292.203749913357\n",
      "16276.114230262701\n",
      "17001.924273930825\n",
      "9018.013793581478\n",
      "8292.203749913357\n",
      "16276.114230262701\n",
      "12647.06401192209\n",
      "9743.823837249602\n",
      "13372.874055590213\n",
      "8292.203749913357\n",
      "13372.874055590213\n",
      "13372.874055590213\n",
      "7566.393706245234\n",
      "11921.253968253968\n",
      "8292.203749913357\n",
      "14824.494142926456\n",
      "9018.013793581478\n",
      "14824.494142926456\n",
      "14824.494142926456\n",
      "14824.494142926456\n",
      "11921.253968253968\n",
      "11921.253968253968\n",
      "10469.633880917723\n",
      "9743.823837249602\n",
      "14824.494142926456\n",
      "14098.684099258335\n",
      "14098.684099258335\n",
      "12647.06401192209\n",
      "9018.013793581478\n",
      "12647.06401192209\n",
      "16276.114230262701\n",
      "9018.013793581478\n",
      "16276.114230262701\n",
      "14824.494142926456\n",
      "16276.114230262701\n",
      "9018.013793581478\n",
      "11921.253968253968\n",
      "11921.253968253968\n",
      "14098.684099258335\n",
      "13372.874055590213\n",
      "11921.253968253968\n",
      "11195.443924585845\n",
      "13372.874055590213\n",
      "11921.253968253968\n",
      "14824.494142926456\n",
      "9018.013793581478\n",
      "10469.633880917723\n",
      "10469.633880917723\n",
      "13372.874055590213\n",
      "9743.823837249602\n",
      "17001.924273930825\n",
      "14098.684099258335\n",
      "9743.823837249602\n",
      "14098.684099258335\n",
      "9743.823837249602\n",
      "11195.443924585845\n",
      "11195.443924585845\n",
      "6114.77361890899\n",
      "11195.443924585845\n"
     ]
    }
   ],
   "source": [
    "sum_ab = 0\n",
    "sum_square = 0\n",
    "for idx, elem in enumerate(faculty_ratio):\n",
    "    sum_ab += elem * students[idx]\n",
    "    sum_square += elem**2\n",
    "k_lin = (len(faculty_ratio) * sum_ab - sum(faculty_ratio) * sum(students))/(len(faculty_ratio) * sum_square - sum(faculty_ratio)**2)\n",
    "b_lin = sr_students - sr_faculty_ratio * k_lin\n",
    "func_val = []\n",
    "for elem in faculty_ratio:\n",
    "    func_val.append(k_lin * elem + b_lin)\n",
    "print(f\"Уравнение линейной зависимости: y = {k_lin}x + {b_lin}\")\n",
    "print(\"Значения функции на кривой методом наименьших квадратов: \")\n",
    "for val in func_val:\n",
    "    print(val)"
   ]
  },
  {
   "cell_type": "code",
   "execution_count": 6,
   "id": "b255d6ba",
   "metadata": {},
   "outputs": [
    {
     "name": "stdout",
     "output_type": "stream",
     "text": [
      "Коэффициент парной корреляции: 0.2461877136685876\n"
     ]
    }
   ],
   "source": [
    "razn = 0\n",
    "for idx, elem in enumerate(faculty_ratio):\n",
    "    razn += (elem-sr_faculty_ratio)*(students[idx] - sr_students)\n",
    "razn_sr_faculty_ratio = sum((elem-sr_faculty_ratio)**2 for elem in faculty_ratio)\n",
    "razn_sr_students = sum((elem-sr_students)**2 for elem in students)\n",
    "mark_kor = razn / sqrt(razn_sr_faculty_ratio*razn_sr_students)\n",
    "print(f\"Коэффициент парной корреляции: {mark_kor}\")"
   ]
  }
 ],
 "metadata": {
  "kernelspec": {
   "display_name": "Python 3 (ipykernel)",
   "language": "python",
   "name": "python3"
  },
  "language_info": {
   "codemirror_mode": {
    "name": "ipython",
    "version": 3
   },
   "file_extension": ".py",
   "mimetype": "text/x-python",
   "name": "python",
   "nbconvert_exporter": "python",
   "pygments_lexer": "ipython3",
   "version": "3.9.13"
  }
 },
 "nbformat": 4,
 "nbformat_minor": 5
}
